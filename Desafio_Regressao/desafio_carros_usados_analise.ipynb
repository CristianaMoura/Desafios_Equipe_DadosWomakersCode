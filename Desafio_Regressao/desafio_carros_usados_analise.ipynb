{
 "cells": [
  {
   "cell_type": "code",
   "execution_count": 10,
   "id": "ebc5760e",
   "metadata": {},
   "outputs": [],
   "source": [
    "\n",
    "import pandas as pd\n",
    "import numpy as np\n",
    "import seaborn as sns\n",
    "import matplotlib.pyplot as plt\n",
    "from scipy import stats\n",
    "from statsmodels.stats.power import TTestIndPower\n",
    "from statsmodels.stats.proportion import proportions_ztest"
   ]
  },
  {
   "cell_type": "code",
   "execution_count": 13,
   "id": "40ba53f8",
   "metadata": {},
   "outputs": [
    {
     "ename": "SyntaxError",
     "evalue": "invalid syntax (2084069671.py, line 3)",
     "output_type": "error",
     "traceback": [
      "\u001b[1;36m  Cell \u001b[1;32mIn[13], line 3\u001b[1;36m\u001b[0m\n\u001b[1;33m    url = \"url = \"https://raw.githubusercontent.com/CristianaMoura/Desafios_Equipe_DadosWomakersCode/refs/heads/master/Desafio_Regressao/desafio_carros_usados.csv\"\"\u001b[0m\n\u001b[1;37m                  ^\u001b[0m\n\u001b[1;31mSyntaxError\u001b[0m\u001b[1;31m:\u001b[0m invalid syntax\n"
     ]
    }
   ],
   "source": [
    "\n",
    "# Análise de Correlação e Regressão - Carros Usados\n",
    "\n",
    "url = \"url = \"https://raw.githubusercontent.com/CristianaMoura/Desafios_Equipe_DadosWomakersCode/refs/heads/master/Desafio_Regressao/desafio_carros_usados.csv\"\"\n",
    "df = pd.read_csv(url)\n",
    "\n",
    "# Visualizar primeiras linhas\n",
    "df.head()\n",
    "\n"
   ]
  },
  {
   "cell_type": "code",
   "execution_count": null,
   "id": "2bc55ed0",
   "metadata": {},
   "outputs": [],
   "source": [
    "\n",
    "# Verificar colunas numéricas\n",
    "numericas = df.select_dtypes(include=['float64', 'int64'])"
   ]
  },
  {
   "cell_type": "code",
   "execution_count": null,
   "id": "a8e1668b",
   "metadata": {},
   "outputs": [],
   "source": [
    "# Calcular correlações com 'price'\n",
    "correlacoes = numericas.corr()['price'].sort_values(ascending=False)\n",
    "print(\"Correlação com 'price':\\n\", correlacoes)\n"
   ]
  },
  {
   "cell_type": "code",
   "execution_count": null,
   "id": "bfc0b28f",
   "metadata": {},
   "outputs": [],
   "source": [
    "# Heatmap\n",
    "plt.figure(figsize=(10, 6))\n",
    "sns.heatmap(numericas.corr(), annot=True, cmap='coolwarm', fmt=\".2f\")\n",
    "plt.title('Matriz de Correlação')\n",
    "plt.show()\n"
   ]
  },
  {
   "cell_type": "code",
   "execution_count": null,
   "id": "14092fa1",
   "metadata": {},
   "outputs": [],
   "source": [
    "# Top 5 variáveis mais correlacionadas (exceto price)\n",
    "top5_variaveis = correlacoes.drop('price').head(5).index.tolist()\n",
    "print(f\"Top 5 variáveis mais correlacionadas com o preço: {top5_variaveis}\")\n"
   ]
  },
  {
   "cell_type": "code",
   "execution_count": null,
   "id": "c120932b",
   "metadata": {},
   "outputs": [],
   "source": [
    "# Loop para análise\n",
    "for var in top5_variaveis:\n",
    "    print(f\"\\n--- Análise da variável: {var} ---\")\n",
    "\n",
    "    # Histograma e Boxplot\n",
    "    plt.figure(figsize=(12, 4))\n",
    "    plt.subplot(1, 2, 1)\n",
    "    sns.histplot(df[var], kde=True)\n",
    "    plt.title(f'Histograma de {var}')\n",
    "\n",
    "    plt.subplot(1, 2, 2)\n",
    "    sns.boxplot(x=df[var])\n",
    "    plt.title(f'Boxplot de {var}')\n",
    "    plt.tight_layout()\n",
    "    plt.show()\n",
    "\n",
    "    # Dispersão\n",
    "    plt.figure(figsize=(6, 4))\n",
    "    sns.scatterplot(x=df[var], y=df['price'])\n",
    "    plt.title(f'Dispersão: {var} x price')\n",
    "    plt.xlabel(var)\n",
    "    plt.ylabel('price')\n",
    "    plt.show()\n"
   ]
  },
  {
   "cell_type": "code",
   "execution_count": null,
   "id": "5b85814e",
   "metadata": {},
   "outputs": [],
   "source": [
    "    # Regressão Linear\n",
    "    X = df[[var]]\n",
    "    y = df['price']\n",
    "    modelo = LinearRegression()\n",
    "    modelo.fit(X, y)\n",
    "    y_pred = modelo.predict(X)\n",
    "\n",
    "    coef = modelo.coef_[0]\n",
    "    intercepto = modelo.intercept_\n",
    "    r2 = r2_score(y, y_pred)\n",
    "\n",
    "    print(f\"Coeficiente β1: {coef:.2f}\")\n",
    "    print(f\"Intercepto β0: {intercepto:.2f}\")\n",
    "    print(f\"R²: {r2:.3f} — ({r2*100:.1f}% da variação em price explicada por {var})\")\n"
   ]
  },
  {
   "cell_type": "code",
   "execution_count": null,
   "id": "c3078862",
   "metadata": {},
   "outputs": [],
   "source": [
    "    # Gráfico com reta de regressão\n",
    "    plt.figure(figsize=(6, 4))\n",
    "    sns.scatterplot(x=df[var], y=df['price'], label='Dados Reais')\n",
    "    plt.plot(df[var], y_pred, color='red', label='Regressão Linear')\n",
    "    plt.xlabel(var)\n",
    "    plt.ylabel('price')\n",
    "    plt.title(f'Regressão Linear: price ~ {var}')\n",
    "    plt.legend()\n",
    "    plt.show()"
   ]
  }
 ],
 "metadata": {
  "kernelspec": {
   "display_name": "Python 3",
   "language": "python",
   "name": "python3"
  },
  "language_info": {
   "codemirror_mode": {
    "name": "ipython",
    "version": 3
   },
   "file_extension": ".py",
   "mimetype": "text/x-python",
   "name": "python",
   "nbconvert_exporter": "python",
   "pygments_lexer": "ipython3",
   "version": "3.13.2"
  }
 },
 "nbformat": 4,
 "nbformat_minor": 5
}
