{
  "cells": [
    {
      "cell_type": "markdown",
      "metadata": {},
      "source": [
        "Atividade Individual\n",
        "\n",
        "Correlação e Regressão Simples/Multivariada"
      ]
    },
    {
      "cell_type": "markdown",
      "metadata": {},
      "source": [
        "### 📚 Importação de Bibliotecas"
      ]
    },
    {
      "cell_type": "code",
      "execution_count": 4,
      "metadata": {
        "id": "wfNrIg4NYPYy"
      },
      "outputs": [],
      "source": [
        "\n",
        "# Manipulação e análise de dados\n",
        "import pandas as pd\n",
        "import numpy as np\n",
        "\n",
        "# Visualização\n",
        "import seaborn as sns\n",
        "import matplotlib.pyplot as plt\n",
        "\n",
        "from scipy import stats\n",
        "from statsmodels.stats.power import TTestIndPower\n",
        "from statsmodels.stats.proportion import proportions_ztest\n",
        "\n",
        "# Configurações estéticas para os gráficos\n",
        "sns.set_style(\"whitegrid\")\n",
        "plt.rcParams[\"figure.figsize\"] = (10, 6)\n",
        "\n"
      ]
    },
    {
      "cell_type": "markdown",
      "metadata": {},
      "source": [
        "#### 📁 Visualização Inicial\n",
        "\n",
        "Nesta etapa, vamos observar as primeiras linhas do dataset para entender sua estrutura, as colunas disponíveis e o formato dos dados.\n",
        "\n",
        "Nosso objetivo aqui é ter uma visão geral antes de qualquer limpeza ou tratamento."
      ]
    },
    {
      "cell_type": "markdown",
      "metadata": {},
      "source": [
        "💻 Código"
      ]
    },
    {
      "cell_type": "code",
      "execution_count": 6,
      "metadata": {},
      "outputs": [
        {
          "data": {
            "application/vnd.microsoft.datawrangler.viewer.v0+json": {
              "columns": [
                {
                  "name": "index",
                  "rawType": "int64",
                  "type": "integer"
                },
                {
                  "name": "id",
                  "rawType": "int64",
                  "type": "integer"
                },
                {
                  "name": "make",
                  "rawType": "object",
                  "type": "string"
                },
                {
                  "name": "model",
                  "rawType": "object",
                  "type": "string"
                },
                {
                  "name": "year",
                  "rawType": "int64",
                  "type": "integer"
                },
                {
                  "name": "price",
                  "rawType": "int64",
                  "type": "integer"
                },
                {
                  "name": "mileage",
                  "rawType": "int64",
                  "type": "integer"
                },
                {
                  "name": "engine_size",
                  "rawType": "float64",
                  "type": "float"
                },
                {
                  "name": "fuel_type",
                  "rawType": "object",
                  "type": "string"
                },
                {
                  "name": "transmission",
                  "rawType": "object",
                  "type": "string"
                },
                {
                  "name": "doors",
                  "rawType": "int64",
                  "type": "integer"
                },
                {
                  "name": "color",
                  "rawType": "object",
                  "type": "string"
                },
                {
                  "name": "tax",
                  "rawType": "int64",
                  "type": "integer"
                },
                {
                  "name": "mpg",
                  "rawType": "float64",
                  "type": "float"
                },
                {
                  "name": "sold_date",
                  "rawType": "object",
                  "type": "string"
                }
              ],
              "conversionMethod": "pd.DataFrame",
              "ref": "57928c5a-449e-4e4c-9e9b-e318f3f49e29",
              "rows": [
                [
                  "0",
                  "1",
                  "Volkswagen",
                  "Model B",
                  "2022",
                  "23859",
                  "94811",
                  "3.6",
                  "Diesel",
                  "Manual",
                  "2",
                  "Grey",
                  "288",
                  "39.2",
                  "2023-10-11"
                ],
                [
                  "1",
                  "2",
                  "Chevrolet",
                  "Model A",
                  "2008",
                  "16953",
                  "128028",
                  "4.9",
                  "Diesel",
                  "Manual",
                  "5",
                  "Red",
                  "339",
                  "15.3",
                  "2021-04-22"
                ],
                [
                  "2",
                  "3",
                  "BMW",
                  "Model B",
                  "2006",
                  "12332",
                  "49178",
                  "4.1",
                  "Diesel",
                  "Automatic",
                  "4",
                  "Red",
                  "458",
                  "37.2",
                  "2020-05-04"
                ],
                [
                  "3",
                  "4",
                  "Chevrolet",
                  "Model B",
                  "2018",
                  "18475",
                  "42821",
                  "2.7",
                  "Hybrid",
                  "Manual",
                  "5",
                  "Silver",
                  "486",
                  "43.7",
                  "2021-06-20"
                ],
                [
                  "4",
                  "5",
                  "Chevrolet",
                  "Model C",
                  "2017",
                  "12129",
                  "192799",
                  "2.8",
                  "Gasoline",
                  "Manual",
                  "4",
                  "Silver",
                  "295",
                  "19.1",
                  "2021-12-06"
                ]
              ],
              "shape": {
                "columns": 14,
                "rows": 5
              }
            },
            "text/html": [
              "<div>\n",
              "<style scoped>\n",
              "    .dataframe tbody tr th:only-of-type {\n",
              "        vertical-align: middle;\n",
              "    }\n",
              "\n",
              "    .dataframe tbody tr th {\n",
              "        vertical-align: top;\n",
              "    }\n",
              "\n",
              "    .dataframe thead th {\n",
              "        text-align: right;\n",
              "    }\n",
              "</style>\n",
              "<table border=\"1\" class=\"dataframe\">\n",
              "  <thead>\n",
              "    <tr style=\"text-align: right;\">\n",
              "      <th></th>\n",
              "      <th>id</th>\n",
              "      <th>make</th>\n",
              "      <th>model</th>\n",
              "      <th>year</th>\n",
              "      <th>price</th>\n",
              "      <th>mileage</th>\n",
              "      <th>engine_size</th>\n",
              "      <th>fuel_type</th>\n",
              "      <th>transmission</th>\n",
              "      <th>doors</th>\n",
              "      <th>color</th>\n",
              "      <th>tax</th>\n",
              "      <th>mpg</th>\n",
              "      <th>sold_date</th>\n",
              "    </tr>\n",
              "  </thead>\n",
              "  <tbody>\n",
              "    <tr>\n",
              "      <th>0</th>\n",
              "      <td>1</td>\n",
              "      <td>Volkswagen</td>\n",
              "      <td>Model B</td>\n",
              "      <td>2022</td>\n",
              "      <td>23859</td>\n",
              "      <td>94811</td>\n",
              "      <td>3.6</td>\n",
              "      <td>Diesel</td>\n",
              "      <td>Manual</td>\n",
              "      <td>2</td>\n",
              "      <td>Grey</td>\n",
              "      <td>288</td>\n",
              "      <td>39.2</td>\n",
              "      <td>2023-10-11</td>\n",
              "    </tr>\n",
              "    <tr>\n",
              "      <th>1</th>\n",
              "      <td>2</td>\n",
              "      <td>Chevrolet</td>\n",
              "      <td>Model A</td>\n",
              "      <td>2008</td>\n",
              "      <td>16953</td>\n",
              "      <td>128028</td>\n",
              "      <td>4.9</td>\n",
              "      <td>Diesel</td>\n",
              "      <td>Manual</td>\n",
              "      <td>5</td>\n",
              "      <td>Red</td>\n",
              "      <td>339</td>\n",
              "      <td>15.3</td>\n",
              "      <td>2021-04-22</td>\n",
              "    </tr>\n",
              "    <tr>\n",
              "      <th>2</th>\n",
              "      <td>3</td>\n",
              "      <td>BMW</td>\n",
              "      <td>Model B</td>\n",
              "      <td>2006</td>\n",
              "      <td>12332</td>\n",
              "      <td>49178</td>\n",
              "      <td>4.1</td>\n",
              "      <td>Diesel</td>\n",
              "      <td>Automatic</td>\n",
              "      <td>4</td>\n",
              "      <td>Red</td>\n",
              "      <td>458</td>\n",
              "      <td>37.2</td>\n",
              "      <td>2020-05-04</td>\n",
              "    </tr>\n",
              "    <tr>\n",
              "      <th>3</th>\n",
              "      <td>4</td>\n",
              "      <td>Chevrolet</td>\n",
              "      <td>Model B</td>\n",
              "      <td>2018</td>\n",
              "      <td>18475</td>\n",
              "      <td>42821</td>\n",
              "      <td>2.7</td>\n",
              "      <td>Hybrid</td>\n",
              "      <td>Manual</td>\n",
              "      <td>5</td>\n",
              "      <td>Silver</td>\n",
              "      <td>486</td>\n",
              "      <td>43.7</td>\n",
              "      <td>2021-06-20</td>\n",
              "    </tr>\n",
              "    <tr>\n",
              "      <th>4</th>\n",
              "      <td>5</td>\n",
              "      <td>Chevrolet</td>\n",
              "      <td>Model C</td>\n",
              "      <td>2017</td>\n",
              "      <td>12129</td>\n",
              "      <td>192799</td>\n",
              "      <td>2.8</td>\n",
              "      <td>Gasoline</td>\n",
              "      <td>Manual</td>\n",
              "      <td>4</td>\n",
              "      <td>Silver</td>\n",
              "      <td>295</td>\n",
              "      <td>19.1</td>\n",
              "      <td>2021-12-06</td>\n",
              "    </tr>\n",
              "  </tbody>\n",
              "</table>\n",
              "</div>"
            ],
            "text/plain": [
              "   id        make    model  year  price  mileage  engine_size fuel_type  \\\n",
              "0   1  Volkswagen  Model B  2022  23859    94811          3.6    Diesel   \n",
              "1   2   Chevrolet  Model A  2008  16953   128028          4.9    Diesel   \n",
              "2   3         BMW  Model B  2006  12332    49178          4.1    Diesel   \n",
              "3   4   Chevrolet  Model B  2018  18475    42821          2.7    Hybrid   \n",
              "4   5   Chevrolet  Model C  2017  12129   192799          2.8  Gasoline   \n",
              "\n",
              "  transmission  doors   color  tax   mpg   sold_date  \n",
              "0       Manual      2    Grey  288  39.2  2023-10-11  \n",
              "1       Manual      5     Red  339  15.3  2021-04-22  \n",
              "2    Automatic      4     Red  458  37.2  2020-05-04  \n",
              "3       Manual      5  Silver  486  43.7  2021-06-20  \n",
              "4       Manual      4  Silver  295  19.1  2021-12-06  "
            ]
          },
          "execution_count": 6,
          "metadata": {},
          "output_type": "execute_result"
        }
      ],
      "source": [
        "url = \"https://raw.githubusercontent.com/CristianaMoura/Desafios_Equipe_DadosWomakersCode/refs/heads/master/5_Desafio_Regressao/desafio_carros_usados.csv\"\n",
        "\n",
        "df_carros = pd.read_csv(url)\n",
        "\n",
        "df_carros.head()\n"
      ]
    },
    {
      "cell_type": "markdown",
      "metadata": {},
      "source": [
        "### 🧽  Verificação de Valores Ausentes e Duplicatas - Base 1\n",
        "\n",
        "Nesta etapa, vamos verificar se existem valores ausentes ou registros duplicados no dataset.\n",
        "\n",
        "Esses problemas podem impactar os resultados das análises estatísticas e visualizações, e devem ser tratados ainda na fase de pré-processamento.\n",
        "\n",
        "**🧪 Código – Diagnóstico**"
      ]
    },
    {
      "cell_type": "code",
      "execution_count": 7,
      "metadata": {},
      "outputs": [
        {
          "name": "stdout",
          "output_type": "stream",
          "text": [
            "🔍 Valores ausentes por coluna:\n",
            "id              0\n",
            "make            0\n",
            "model           0\n",
            "year            0\n",
            "price           0\n",
            "mileage         0\n",
            "engine_size     0\n",
            "fuel_type       0\n",
            "transmission    0\n",
            "doors           0\n",
            "color           0\n",
            "tax             0\n",
            "mpg             0\n",
            "sold_date       0\n",
            "dtype: int64\n",
            "\n",
            "📦 Registros duplicados encontrados: 0\n"
          ]
        }
      ],
      "source": [
        "# Verificar valores ausentes\n",
        "print(\"🔍 Valores ausentes por coluna:\")\n",
        "print(df_carros.isnull().sum())\n",
        "\n",
        "# Verificar registros duplicados\n",
        "duplicatas = df_carros.duplicated().sum()\n",
        "print(f\"\\n📦 Registros duplicados encontrados: {duplicatas}\")"
      ]
    },
    {
      "cell_type": "markdown",
      "metadata": {},
      "source": [
        "### 🔧 Padronização de Colunas e Tipos de Dados\n",
        "\n",
        "Nesta etapa, vamos:\n",
        "- Padronizar os nomes das colunas para facilitar a manipulação (ex: letras minúsculas, sem espaços)\n",
        "- Garantir que as variáveis estejam nos **tipos corretos**:\n",
        "\n",
        "**💻 Código – Padronização**"
      ]
    },
    {
      "cell_type": "code",
      "execution_count": null,
      "metadata": {},
      "outputs": [],
      "source": []
    },
    {
      "cell_type": "code",
      "execution_count": null,
      "metadata": {},
      "outputs": [],
      "source": [
        "# Verificando escrita das do id produto para evitar contabilização incorreta\n",
        "df_carros['id_produto'].unique()"
      ]
    },
    {
      "cell_type": "code",
      "execution_count": null,
      "metadata": {},
      "outputs": [],
      "source": [
        "# Padronizar nomes das colunas\n",
        "df_carros.columns = df_carros.columns.str.lower().str.strip()\n",
        "\n",
        "# Converter colunas numéricas\n",
        "col_numericas = ['ganho_massa', 'idade', 'frequencia_treino']\n",
        "df_carros[col_numericas] = df_suplementos[col_numericas].apply(pd.to_numeric, errors='coerce')\n",
        "\n",
        "# Garantir que id_produto seja categórico\n",
        "df_suplementos['id_produto'] = df_suplementos['id_produto'].astype('category')\n",
        "\n",
        "# Verificar os tipos atualizados\n",
        "df_suplementos.dtypes"
      ]
    },
    {
      "cell_type": "markdown",
      "metadata": {},
      "source": [
        "### 📊 Visualização Geral das Variáveis\n",
        "\n",
        "Agora que os dados estão limpos e padronizados, vamos criar gráficos para observar a distribuição das variáveis principais:\n",
        "\n",
        "Vamos usar:\n",
        "- **Histogramas** para ver a distribuição\n",
        "- **Boxplots** para detectar possíveis outliers\n",
        "\n",
        "**💻 Código – Histogramas e Boxplots**"
      ]
    },
    {
      "cell_type": "code",
      "execution_count": null,
      "metadata": {},
      "outputs": [],
      "source": [
        "# Criar subplots para visualização lado a lado\n",
        "fig, axes = plt.subplots(2, 3, figsize=(18, 10))\n",
        "\n",
        "# Histogramas\n",
        "sns.histplot(df_suplementos['ganho_massa'], bins=20, kde=True, ax=axes[0, 0], color='skyblue')\n",
        "axes[0, 0].set_title(\"Distribuição do Ganho de Massa (kg)\")\n",
        "\n",
        "sns.histplot(df_suplementos['idade'], bins=20, kde=True, ax=axes[0, 1], color='lightgreen')\n",
        "axes[0, 1].set_title(\"Distribuição da Idade\")\n",
        "\n",
        "sns.histplot(df_suplementos['frequencia_treino'], bins=7, discrete=True, ax=axes[0, 2], color='salmon')\n",
        "axes[0, 2].set_title(\"Frequência de Treino (dias/semana)\")\n",
        "\n",
        "# Boxplots\n",
        "sns.boxplot(y=df_suplementos['ganho_massa'], ax=axes[1, 0], color='skyblue')\n",
        "axes[1, 0].set_title(\"Boxplot – Ganho de Massa\")\n",
        "\n",
        "sns.boxplot(y=df_suplementos['idade'], ax=axes[1, 1], color='lightgreen')\n",
        "axes[1, 1].set_title(\"Boxplot – Idade\")\n",
        "\n",
        "sns.boxplot(y=df_suplementos['frequencia_treino'], ax=axes[1, 2], color='salmon')\n",
        "axes[1, 2].set_title(\"Boxplot – Frequência de Treino\")\n",
        "\n",
        "# Ajuste final\n",
        "plt.tight_layout()\n",
        "plt.show()"
      ]
    },
    {
      "cell_type": "markdown",
      "metadata": {},
      "source": [
        "Desafio 4: Venda de Veículos Usados"
      ]
    },
    {
      "cell_type": "markdown",
      "metadata": {},
      "source": [
        "Você trabalha em uma empresa de revenda de veículos usados. O sucesso \n",
        "da empresa depende fortemente da precificação adequada dos veículos. \n",
        "Caso o preço seja muito alto, o carro não vende. Se for muito baixo, a \n",
        "empresa perde dinheiro. \n",
        "Como parte da equipe de dados, você recebeu uma base de dados com \n",
        "informações sobre carros vendidos nos últimos anos, com o objetivo de \n",
        "entender quais fatores mais impactam no preço de venda. \n",
        "A empresa espera que você identifique as variáveis mais relevantes e \n",
        "proponha uma análise baseada em correlações e modelos preditivos \n",
        "simples."
      ]
    },
    {
      "cell_type": "markdown",
      "metadata": {},
      "source": [
        "Base de Dados: desafio_carros_usados.csv \n",
        "●  id: Identificador único do veículo  \n",
        "●  make: Marca do carro (ex: Ford, Toyota)  \n",
        "●  model: Modelo do carro  \n",
        "●  year: Ano de fabricação  \n",
        "●  price: Preço de venda do carro \n",
        " \n",
        "●  mileage: Quilometragem (km rodados)  \n",
        "●  engine_size: Tamanho do motor (em litros)  \n",
        "●  fuel_type: Tipo de combustível (gasolina, diesel, elétrico)  \n",
        "●  transmission: Tipo de transmissão (manual, automática) \n",
        "●  doors: Número de portas  \n",
        "●  color: Cor do carro \n",
        "●  tax: Taxa anual de imposto veicular \n",
        "●  mpg: Milhas por Galão(indicador de eficiência de combustível) \n",
        "●  sold_date: Data de venda do veículo"
      ]
    },
    {
      "cell_type": "markdown",
      "metadata": {},
      "source": [
        "Tarefa: \n",
        "\n",
        "1. Análise de Correlação \n",
        " "
      ]
    },
    {
      "cell_type": "markdown",
      "metadata": {},
      "source": [
        "●  Calcule a correlação entre as variáveis numéricas e o preço do carro \n",
        "(price)."
      ]
    },
    {
      "cell_type": "code",
      "execution_count": null,
      "metadata": {},
      "outputs": [],
      "source": []
    },
    {
      "cell_type": "markdown",
      "metadata": {},
      "source": [
        "●  Quais variáveis estão mais correlacionadas com o preço? "
      ]
    },
    {
      "cell_type": "code",
      "execution_count": null,
      "metadata": {},
      "outputs": [],
      "source": []
    },
    {
      "cell_type": "markdown",
      "metadata": {},
      "source": [
        "●  Quais estão menos correlacionadas? "
      ]
    },
    {
      "cell_type": "code",
      "execution_count": null,
      "metadata": {},
      "outputs": [],
      "source": []
    },
    {
      "cell_type": "markdown",
      "metadata": {},
      "source": [
        "2. Análise das 5 Variáveis Mais Correlacionadas \n",
        "Para as cinco variáveis com maior correlação com o preço: \n",
        "   "
      ]
    },
    {
      "cell_type": "markdown",
      "metadata": {},
      "source": [
        "2.1.  Plote histograma e boxplot de cada variável."
      ]
    },
    {
      "cell_type": "code",
      "execution_count": null,
      "metadata": {},
      "outputs": [],
      "source": []
    },
    {
      "cell_type": "markdown",
      "metadata": {},
      "source": [
        "2.2.  Plote o scatterplot (gráfico de dispersão), com price no eixo Y e a \n",
        "variável no eixo X."
      ]
    },
    {
      "cell_type": "code",
      "execution_count": null,
      "metadata": {},
      "outputs": [],
      "source": []
    },
    {
      "cell_type": "markdown",
      "metadata": {},
      "source": [
        "2.3.  Faça uma regressão linear simples, utilizando cada variável como \n",
        "preditora (X) e o preço como resposta (Y). Interprete os coeficientes e \n",
        "o R². "
      ]
    },
    {
      "cell_type": "code",
      "execution_count": null,
      "metadata": {},
      "outputs": [],
      "source": []
    }
  ],
  "metadata": {
    "colab": {
      "provenance": []
    },
    "kernelspec": {
      "display_name": "Python 3",
      "name": "python3"
    },
    "language_info": {
      "codemirror_mode": {
        "name": "ipython",
        "version": 3
      },
      "file_extension": ".py",
      "mimetype": "text/x-python",
      "name": "python",
      "nbconvert_exporter": "python",
      "pygments_lexer": "ipython3",
      "version": "3.13.2"
    }
  },
  "nbformat": 4,
  "nbformat_minor": 0
}
