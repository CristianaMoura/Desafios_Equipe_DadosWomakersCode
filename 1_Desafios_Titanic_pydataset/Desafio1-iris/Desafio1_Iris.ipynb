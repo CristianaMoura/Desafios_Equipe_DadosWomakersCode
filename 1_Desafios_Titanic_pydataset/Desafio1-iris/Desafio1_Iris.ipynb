{
  "nbformat": 4,
  "nbformat_minor": 0,
  "metadata": {
    "colab": {
      "provenance": []
    },
    "kernelspec": {
      "name": "python3",
      "display_name": "Python 3"
    },
    "language_info": {
      "name": "python"
    }
  },
  "cells": [
    {
      "cell_type": "code",
      "execution_count": 1,
      "metadata": {
        "colab": {
          "base_uri": "https://localhost:8080/"
        },
        "id": "wcKUxN4ewv79",
        "outputId": "c47158f6-380d-46f6-c49b-9b88f7c5a347"
      },
      "outputs": [
        {
          "output_type": "stream",
          "name": "stdout",
          "text": [
            "Collecting pydataset\n",
            "  Downloading pydataset-0.2.0.tar.gz (15.9 MB)\n",
            "\u001b[2K     \u001b[90m━━━━━━━━━━━━━━━━━━━━━━━━━━━━━━━━━━━━━━━━\u001b[0m \u001b[32m15.9/15.9 MB\u001b[0m \u001b[31m35.7 MB/s\u001b[0m eta \u001b[36m0:00:00\u001b[0m\n",
            "\u001b[?25h  Preparing metadata (setup.py) ... \u001b[?25l\u001b[?25hdone\n",
            "Requirement already satisfied: pandas in /usr/local/lib/python3.11/dist-packages (from pydataset) (2.2.2)\n",
            "Requirement already satisfied: numpy>=1.23.2 in /usr/local/lib/python3.11/dist-packages (from pandas->pydataset) (1.26.4)\n",
            "Requirement already satisfied: python-dateutil>=2.8.2 in /usr/local/lib/python3.11/dist-packages (from pandas->pydataset) (2.8.2)\n",
            "Requirement already satisfied: pytz>=2020.1 in /usr/local/lib/python3.11/dist-packages (from pandas->pydataset) (2025.1)\n",
            "Requirement already satisfied: tzdata>=2022.7 in /usr/local/lib/python3.11/dist-packages (from pandas->pydataset) (2025.1)\n",
            "Requirement already satisfied: six>=1.5 in /usr/local/lib/python3.11/dist-packages (from python-dateutil>=2.8.2->pandas->pydataset) (1.17.0)\n",
            "Building wheels for collected packages: pydataset\n",
            "  Building wheel for pydataset (setup.py) ... \u001b[?25l\u001b[?25hdone\n",
            "  Created wheel for pydataset: filename=pydataset-0.2.0-py3-none-any.whl size=15939417 sha256=364b4cd511a87053d8852f97200c813009da116e6e36681e58dec72d854f045a\n",
            "  Stored in directory: /root/.cache/pip/wheels/29/93/3f/af54c413cecaac292940342c61882d2a8848674175d0bb0889\n",
            "Successfully built pydataset\n",
            "Installing collected packages: pydataset\n",
            "Successfully installed pydataset-0.2.0\n"
          ]
        }
      ],
      "source": [
        "pip install pydataset\n"
      ]
    },
    {
      "cell_type": "code",
      "source": [
        "from pydataset import data"
      ],
      "metadata": {
        "colab": {
          "base_uri": "https://localhost:8080/"
        },
        "id": "xle8Q4NrxS3Z",
        "outputId": "aa688ec1-d685-4a26-a2f6-61e040ea0e9d"
      },
      "execution_count": 4,
      "outputs": [
        {
          "output_type": "stream",
          "name": "stdout",
          "text": [
            "initiated datasets repo at: /root/.pydataset/\n"
          ]
        }
      ]
    },
    {
      "cell_type": "code",
      "source": [
        "df = data('iris')"
      ],
      "metadata": {
        "id": "0c1rM1yjxrXR"
      },
      "execution_count": 6,
      "outputs": []
    },
    {
      "cell_type": "code",
      "source": [
        "## 1. Importe o dataset utilizando a seguinte função do pydataset: data(“Código”)\n",
        "print(df)"
      ],
      "metadata": {
        "colab": {
          "base_uri": "https://localhost:8080/"
        },
        "id": "xs_b1ZXqxB3n",
        "outputId": "9c6ecc3d-ea4f-4131-fb46-e7cf1d6ad9d2"
      },
      "execution_count": 7,
      "outputs": [
        {
          "output_type": "stream",
          "name": "stdout",
          "text": [
            "     Sepal.Length  Sepal.Width  Petal.Length  Petal.Width     Species\n",
            "1             5.1          3.5           1.4          0.2      setosa\n",
            "2             4.9          3.0           1.4          0.2      setosa\n",
            "3             4.7          3.2           1.3          0.2      setosa\n",
            "4             4.6          3.1           1.5          0.2      setosa\n",
            "5             5.0          3.6           1.4          0.2      setosa\n",
            "6             5.4          3.9           1.7          0.4      setosa\n",
            "7             4.6          3.4           1.4          0.3      setosa\n",
            "8             5.0          3.4           1.5          0.2      setosa\n",
            "9             4.4          2.9           1.4          0.2      setosa\n",
            "10            4.9          3.1           1.5          0.1      setosa\n",
            "11            5.4          3.7           1.5          0.2      setosa\n",
            "12            4.8          3.4           1.6          0.2      setosa\n",
            "13            4.8          3.0           1.4          0.1      setosa\n",
            "14            4.3          3.0           1.1          0.1      setosa\n",
            "15            5.8          4.0           1.2          0.2      setosa\n",
            "16            5.7          4.4           1.5          0.4      setosa\n",
            "17            5.4          3.9           1.3          0.4      setosa\n",
            "18            5.1          3.5           1.4          0.3      setosa\n",
            "19            5.7          3.8           1.7          0.3      setosa\n",
            "20            5.1          3.8           1.5          0.3      setosa\n",
            "21            5.4          3.4           1.7          0.2      setosa\n",
            "22            5.1          3.7           1.5          0.4      setosa\n",
            "23            4.6          3.6           1.0          0.2      setosa\n",
            "24            5.1          3.3           1.7          0.5      setosa\n",
            "25            4.8          3.4           1.9          0.2      setosa\n",
            "26            5.0          3.0           1.6          0.2      setosa\n",
            "27            5.0          3.4           1.6          0.4      setosa\n",
            "28            5.2          3.5           1.5          0.2      setosa\n",
            "29            5.2          3.4           1.4          0.2      setosa\n",
            "30            4.7          3.2           1.6          0.2      setosa\n",
            "31            4.8          3.1           1.6          0.2      setosa\n",
            "32            5.4          3.4           1.5          0.4      setosa\n",
            "33            5.2          4.1           1.5          0.1      setosa\n",
            "34            5.5          4.2           1.4          0.2      setosa\n",
            "35            4.9          3.1           1.5          0.2      setosa\n",
            "36            5.0          3.2           1.2          0.2      setosa\n",
            "37            5.5          3.5           1.3          0.2      setosa\n",
            "38            4.9          3.6           1.4          0.1      setosa\n",
            "39            4.4          3.0           1.3          0.2      setosa\n",
            "40            5.1          3.4           1.5          0.2      setosa\n",
            "41            5.0          3.5           1.3          0.3      setosa\n",
            "42            4.5          2.3           1.3          0.3      setosa\n",
            "43            4.4          3.2           1.3          0.2      setosa\n",
            "44            5.0          3.5           1.6          0.6      setosa\n",
            "45            5.1          3.8           1.9          0.4      setosa\n",
            "46            4.8          3.0           1.4          0.3      setosa\n",
            "47            5.1          3.8           1.6          0.2      setosa\n",
            "48            4.6          3.2           1.4          0.2      setosa\n",
            "49            5.3          3.7           1.5          0.2      setosa\n",
            "50            5.0          3.3           1.4          0.2      setosa\n",
            "51            7.0          3.2           4.7          1.4  versicolor\n",
            "52            6.4          3.2           4.5          1.5  versicolor\n",
            "53            6.9          3.1           4.9          1.5  versicolor\n",
            "54            5.5          2.3           4.0          1.3  versicolor\n",
            "55            6.5          2.8           4.6          1.5  versicolor\n",
            "56            5.7          2.8           4.5          1.3  versicolor\n",
            "57            6.3          3.3           4.7          1.6  versicolor\n",
            "58            4.9          2.4           3.3          1.0  versicolor\n",
            "59            6.6          2.9           4.6          1.3  versicolor\n",
            "60            5.2          2.7           3.9          1.4  versicolor\n",
            "61            5.0          2.0           3.5          1.0  versicolor\n",
            "62            5.9          3.0           4.2          1.5  versicolor\n",
            "63            6.0          2.2           4.0          1.0  versicolor\n",
            "64            6.1          2.9           4.7          1.4  versicolor\n",
            "65            5.6          2.9           3.6          1.3  versicolor\n",
            "66            6.7          3.1           4.4          1.4  versicolor\n",
            "67            5.6          3.0           4.5          1.5  versicolor\n",
            "68            5.8          2.7           4.1          1.0  versicolor\n",
            "69            6.2          2.2           4.5          1.5  versicolor\n",
            "70            5.6          2.5           3.9          1.1  versicolor\n",
            "71            5.9          3.2           4.8          1.8  versicolor\n",
            "72            6.1          2.8           4.0          1.3  versicolor\n",
            "73            6.3          2.5           4.9          1.5  versicolor\n",
            "74            6.1          2.8           4.7          1.2  versicolor\n",
            "75            6.4          2.9           4.3          1.3  versicolor\n",
            "76            6.6          3.0           4.4          1.4  versicolor\n",
            "77            6.8          2.8           4.8          1.4  versicolor\n",
            "78            6.7          3.0           5.0          1.7  versicolor\n",
            "79            6.0          2.9           4.5          1.5  versicolor\n",
            "80            5.7          2.6           3.5          1.0  versicolor\n",
            "81            5.5          2.4           3.8          1.1  versicolor\n",
            "82            5.5          2.4           3.7          1.0  versicolor\n",
            "83            5.8          2.7           3.9          1.2  versicolor\n",
            "84            6.0          2.7           5.1          1.6  versicolor\n",
            "85            5.4          3.0           4.5          1.5  versicolor\n",
            "86            6.0          3.4           4.5          1.6  versicolor\n",
            "87            6.7          3.1           4.7          1.5  versicolor\n",
            "88            6.3          2.3           4.4          1.3  versicolor\n",
            "89            5.6          3.0           4.1          1.3  versicolor\n",
            "90            5.5          2.5           4.0          1.3  versicolor\n",
            "91            5.5          2.6           4.4          1.2  versicolor\n",
            "92            6.1          3.0           4.6          1.4  versicolor\n",
            "93            5.8          2.6           4.0          1.2  versicolor\n",
            "94            5.0          2.3           3.3          1.0  versicolor\n",
            "95            5.6          2.7           4.2          1.3  versicolor\n",
            "96            5.7          3.0           4.2          1.2  versicolor\n",
            "97            5.7          2.9           4.2          1.3  versicolor\n",
            "98            6.2          2.9           4.3          1.3  versicolor\n",
            "99            5.1          2.5           3.0          1.1  versicolor\n",
            "100           5.7          2.8           4.1          1.3  versicolor\n",
            "101           6.3          3.3           6.0          2.5   virginica\n",
            "102           5.8          2.7           5.1          1.9   virginica\n",
            "103           7.1          3.0           5.9          2.1   virginica\n",
            "104           6.3          2.9           5.6          1.8   virginica\n",
            "105           6.5          3.0           5.8          2.2   virginica\n",
            "106           7.6          3.0           6.6          2.1   virginica\n",
            "107           4.9          2.5           4.5          1.7   virginica\n",
            "108           7.3          2.9           6.3          1.8   virginica\n",
            "109           6.7          2.5           5.8          1.8   virginica\n",
            "110           7.2          3.6           6.1          2.5   virginica\n",
            "111           6.5          3.2           5.1          2.0   virginica\n",
            "112           6.4          2.7           5.3          1.9   virginica\n",
            "113           6.8          3.0           5.5          2.1   virginica\n",
            "114           5.7          2.5           5.0          2.0   virginica\n",
            "115           5.8          2.8           5.1          2.4   virginica\n",
            "116           6.4          3.2           5.3          2.3   virginica\n",
            "117           6.5          3.0           5.5          1.8   virginica\n",
            "118           7.7          3.8           6.7          2.2   virginica\n",
            "119           7.7          2.6           6.9          2.3   virginica\n",
            "120           6.0          2.2           5.0          1.5   virginica\n",
            "121           6.9          3.2           5.7          2.3   virginica\n",
            "122           5.6          2.8           4.9          2.0   virginica\n",
            "123           7.7          2.8           6.7          2.0   virginica\n",
            "124           6.3          2.7           4.9          1.8   virginica\n",
            "125           6.7          3.3           5.7          2.1   virginica\n",
            "126           7.2          3.2           6.0          1.8   virginica\n",
            "127           6.2          2.8           4.8          1.8   virginica\n",
            "128           6.1          3.0           4.9          1.8   virginica\n",
            "129           6.4          2.8           5.6          2.1   virginica\n",
            "130           7.2          3.0           5.8          1.6   virginica\n",
            "131           7.4          2.8           6.1          1.9   virginica\n",
            "132           7.9          3.8           6.4          2.0   virginica\n",
            "133           6.4          2.8           5.6          2.2   virginica\n",
            "134           6.3          2.8           5.1          1.5   virginica\n",
            "135           6.1          2.6           5.6          1.4   virginica\n",
            "136           7.7          3.0           6.1          2.3   virginica\n",
            "137           6.3          3.4           5.6          2.4   virginica\n",
            "138           6.4          3.1           5.5          1.8   virginica\n",
            "139           6.0          3.0           4.8          1.8   virginica\n",
            "140           6.9          3.1           5.4          2.1   virginica\n",
            "141           6.7          3.1           5.6          2.4   virginica\n",
            "142           6.9          3.1           5.1          2.3   virginica\n",
            "143           5.8          2.7           5.1          1.9   virginica\n",
            "144           6.8          3.2           5.9          2.3   virginica\n",
            "145           6.7          3.3           5.7          2.5   virginica\n",
            "146           6.7          3.0           5.2          2.3   virginica\n",
            "147           6.3          2.5           5.0          1.9   virginica\n",
            "148           6.5          3.0           5.2          2.0   virginica\n",
            "149           6.2          3.4           5.4          2.3   virginica\n",
            "150           5.9          3.0           5.1          1.8   virginica\n"
          ]
        }
      ]
    },
    {
      "cell_type": "code",
      "source": [
        "## 3. Informe o tipo de dados retornado pela função data;\n",
        "print(type(df))"
      ],
      "metadata": {
        "colab": {
          "base_uri": "https://localhost:8080/"
        },
        "id": "s8uRqJMvx0ap",
        "outputId": "cd0905e2-4b10-4676-ea0a-4e55e3227cd1"
      },
      "execution_count": 8,
      "outputs": [
        {
          "output_type": "stream",
          "name": "stdout",
          "text": [
            "<class 'pandas.core.frame.DataFrame'>\n"
          ]
        }
      ]
    },
    {
      "cell_type": "code",
      "source": [
        "## 4. Informe o número de exemplos (linhas) e características (colunas) do dataset.\n",
        "print(df.shape)"
      ],
      "metadata": {
        "colab": {
          "base_uri": "https://localhost:8080/"
        },
        "id": "nalqKUF7x4QJ",
        "outputId": "9799b02d-a9c1-4719-f1f7-a78511fa56be"
      },
      "execution_count": 9,
      "outputs": [
        {
          "output_type": "stream",
          "name": "stdout",
          "text": [
            "(150, 5)\n"
          ]
        }
      ]
    },
    {
      "cell_type": "code",
      "source": [
        "## 5. Crie uma função que ao receber um DataFrame retorna o número de linhas e colunas.\n",
        "def row_columns(df):\n",
        "    return df.shape\n",
        "print(row_columns(df))"
      ],
      "metadata": {
        "colab": {
          "base_uri": "https://localhost:8080/"
        },
        "id": "uF8UfMapyX3j",
        "outputId": "28c8844f-c30d-45bc-fb37-af9d9df497cc"
      },
      "execution_count": 10,
      "outputs": [
        {
          "output_type": "stream",
          "name": "stdout",
          "text": [
            "(150, 5)\n"
          ]
        }
      ]
    }
  ]
}